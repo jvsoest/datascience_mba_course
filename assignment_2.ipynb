{
 "cells": [
  {
   "cell_type": "markdown",
   "metadata": {},
   "source": [
    "# Assignment 1 - Decision Tree\n",
    "\n",
    "In this assignment, we are going to train a decision tree prediction model.\n",
    "The first step is to load the dataset, and show the first 5 rows of this dataset to make sure our table is correctly loaded."
   ]
  },
  {
   "cell_type": "code",
   "execution_count": null,
   "metadata": {
    "colab": {
     "base_uri": "https://localhost:8080/",
     "height": 342
    },
    "id": "grDLTgOao9LJ",
    "outputId": "b6c781c9-7a9c-4974-d46f-314a3c300a1e"
   },
   "outputs": [],
   "source": [
    "import pandas as pd\n",
    "df = pd.read_parquet('https://huggingface.co/datasets/scikit-learn/churn-prediction/resolve/refs%2Fconvert%2Fparquet/default/train/0000.parquet', engine='pyarrow')\n",
    "\n",
    "df.head()"
   ]
  },
  {
   "cell_type": "markdown",
   "metadata": {},
   "source": [
    "## Load default scripts\n",
    "The cell below executes prepared code, just hit the \"play\" button and move to the next cell"
   ]
  },
  {
   "cell_type": "code",
   "execution_count": null,
   "metadata": {
    "id": "bOepJ120_t_s"
   },
   "outputs": [],
   "source": [
    "from sklearn.preprocessing import OneHotEncoder, StandardScaler\n",
    "from sklearn.impute import SimpleImputer\n",
    "from sklearn.linear_model import LogisticRegression\n",
    "from sklearn.tree import DecisionTreeClassifier\n",
    "from sklearn.compose import ColumnTransformer\n",
    "from sklearn.pipeline import Pipeline\n",
    "\n",
    "def train_decision_tree(X, y):\n",
    "  # Define categorical columns\n",
    "  categorical_cols = [col for col in X.columns if X[col].dtype == 'object']\n",
    "  numeric_features = [col for col in X.columns if X[col].dtype in [\"float64\", \"int64\"]]\n",
    "\n",
    "  # Create a pipeline for preprocessing categorical variables\n",
    "  categorical_transformer = Pipeline(steps=[\n",
    "      ('onehot', OneHotEncoder(handle_unknown='ignore'))\n",
    "  ])\n",
    "\n",
    "  numeric_transformer = Pipeline(\n",
    "      steps=[(\"imputer\", SimpleImputer(strategy=\"median\"))]\n",
    "  )\n",
    "\n",
    "  # Combine preprocessing steps with ColumnTransformer\n",
    "  preprocessor = ColumnTransformer(\n",
    "      transformers=[\n",
    "          (\"num\", numeric_transformer, numeric_features),\n",
    "          ('cat', categorical_transformer, categorical_cols)\n",
    "  ])\n",
    "\n",
    "  # Append classifier to preprocessing pipeline\n",
    "  # Now we have a full prediction pipeline\n",
    "  clf = Pipeline(steps=[('preprocessor', preprocessor),\n",
    "                        ('classifier', DecisionTreeClassifier(min_samples_leaf=1000))])\n",
    "\n",
    "  # Fit the model\n",
    "  clf.fit(X, y)\n",
    "\n",
    "  # Get the feature names\n",
    "  feature_names = clf.named_steps['preprocessor'].named_transformers_['cat'].named_steps['onehot'].get_feature_names_out() #(input_features=categorical_cols)\n",
    "\n",
    "  full_list = numeric_features\n",
    "  full_list.extend(feature_names)\n",
    "\n",
    "  return clf, full_list"
   ]
  },
  {
   "cell_type": "markdown",
   "metadata": {},
   "source": [
    "## Execute machine learning run\n",
    "The cell below will train a decision tree model.\n",
    "\n",
    "If you want to use additional features in your model, copy & paste the **exact** column name (mind capital letters!) from the table above (or from excel).\n",
    "You can add as many variables as you want, if you wrap them with quotes, and separate every variable with a comma."
   ]
  },
  {
   "cell_type": "code",
   "execution_count": null,
   "metadata": {
    "colab": {
     "base_uri": "https://localhost:8080/"
    },
    "id": "5d19eUtWHrKH",
    "outputId": "df5e982c-1d74-4190-bcd8-0b1f0a103589"
   },
   "outputs": [],
   "source": [
    "inputFeatures = df[[\"gender\", \"MonthlyCharges\"]]\n",
    "outcome = (df[\"Churn\"]==\"Yes\")\n",
    "dt_model, feature_names = train_decision_tree(inputFeatures, outcome)"
   ]
  },
  {
   "cell_type": "markdown",
   "metadata": {},
   "source": [
    "## Visualize decision tree\n",
    "The code below will visualize the trained decision tree. Just run the code below (no changes needed)"
   ]
  },
  {
   "cell_type": "code",
   "execution_count": null,
   "metadata": {
    "colab": {
     "base_uri": "https://localhost:8080/",
     "height": 616
    },
    "id": "CAd7rBC7fuAM",
    "outputId": "c4147717-6696-46d3-8dd7-7f2a4bcb2f90"
   },
   "outputs": [],
   "source": [
    "import matplotlib.pyplot as plt\n",
    "import sklearn.tree as tree\n",
    "import graphviz\n",
    "fig = plt.figure(figsize=(25,20))\n",
    "dot_data = tree.export_graphviz(dt_model.named_steps['classifier'], feature_names=feature_names, class_names=[\"False\", \"True\"], filled=True)\n",
    "\n",
    "# Draw graph\n",
    "graph = graphviz.Source(dot_data, format=\"png\")\n",
    "graph"
   ]
  },
  {
   "cell_type": "markdown",
   "metadata": {},
   "source": [
    "# Model performance\r",
    "**Wait with the steps below when until we are addressing model performance!**!"
   ]
  },
  {
   "cell_type": "markdown",
   "metadata": {},
   "source": [
    "## Confusion matrix\n",
    "Below you can generate the confusion matrix for the decision tree developed above. Just execute the cell below."
   ]
  },
  {
   "cell_type": "code",
   "execution_count": null,
   "metadata": {
    "colab": {
     "base_uri": "https://localhost:8080/",
     "height": 449
    },
    "id": "nGu6oDeqqPAm",
    "outputId": "d3dcc853-10e0-4874-b90d-e9b65b018e69"
   },
   "outputs": [],
   "source": [
    "from sklearn.metrics import ConfusionMatrixDisplay\n",
    "ConfusionMatrixDisplay.from_estimator(dt_model, inputFeatures, outcome)"
   ]
  },
  {
   "cell_type": "markdown",
   "metadata": {},
   "source": [
    "## ROC curve (discriminative ability)\n",
    "Run the code below to generate the ROC curve and determine the AUC value (see legend). How good/bad is the model?"
   ]
  },
  {
   "cell_type": "code",
   "execution_count": null,
   "metadata": {
    "colab": {
     "base_uri": "https://localhost:8080/",
     "height": 449
    },
    "id": "nGu6oDeqqPAm",
    "outputId": "d3dcc853-10e0-4874-b90d-e9b65b018e69"
   },
   "outputs": [],
   "source": [
    "from sklearn.metrics import RocCurveDisplay\n",
    "roc = RocCurveDisplay.from_estimator(dt_model, inputFeatures, outcome)\n",
    "plt.show()"
   ]
  }
 ],
 "metadata": {
  "colab": {
   "provenance": []
  },
  "kernelspec": {
   "display_name": "Python 3 (ipykernel)",
   "language": "python",
   "name": "python3"
  },
  "language_info": {
   "codemirror_mode": {
    "name": "ipython",
    "version": 3
   },
   "file_extension": ".py",
   "mimetype": "text/x-python",
   "name": "python",
   "nbconvert_exporter": "python",
   "pygments_lexer": "ipython3",
   "version": "3.10.12"
  }
 },
 "nbformat": 4,
 "nbformat_minor": 4
}
