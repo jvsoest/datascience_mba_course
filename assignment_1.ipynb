{
 "cells": [
  {
   "cell_type": "markdown",
   "metadata": {
    "colab": {
     "base_uri": "https://localhost:8080/",
     "height": 342
    },
    "id": "grDLTgOao9LJ",
    "outputId": "b6c781c9-7a9c-4974-d46f-314a3c300a1e"
   },
   "source": [
    "# Assignment 1 - Logistic Regression\n",
    "\n",
    "In this assignment, we are going to train a logistic regression prediction model.\n",
    "The first step is to load the dataset, and show the first 5 rows of this dataset to make sure our table is correctly loaded."
   ]
  },
  {
   "cell_type": "code",
   "execution_count": null,
   "metadata": {
    "colab": {
     "base_uri": "https://localhost:8080/",
     "height": 342
    },
    "id": "grDLTgOao9LJ",
    "outputId": "b6c781c9-7a9c-4974-d46f-314a3c300a1e"
   },
   "outputs": [],
   "source": [
    "import pandas as pd\n",
    "df = pd.read_parquet('https://huggingface.co/datasets/scikit-learn/churn-prediction/resolve/refs%2Fconvert%2Fparquet/default/train/0000.parquet', engine='pyarrow')\n",
    "\n",
    "df.head()"
   ]
  },
  {
   "cell_type": "markdown",
   "metadata": {},
   "source": [
    "## Load default scripts\n",
    "The cell below executes prepared code, just hit the \"play\" button and move to the next cell"
   ]
  },
  {
   "cell_type": "code",
   "execution_count": null,
   "metadata": {
    "id": "bOepJ120_t_s"
   },
   "outputs": [],
   "source": [
    "from sklearn.preprocessing import OneHotEncoder, StandardScaler\n",
    "from sklearn.impute import SimpleImputer\n",
    "from sklearn.linear_model import LogisticRegression\n",
    "from sklearn.tree import DecisionTreeClassifier\n",
    "from sklearn.compose import ColumnTransformer\n",
    "from sklearn.pipeline import Pipeline\n",
    "\n",
    "def train_logistic_regression(X, y):\n",
    "  # Define categorical columns\n",
    "  categorical_cols = [col for col in X.columns if X[col].dtype == 'object']\n",
    "  numeric_features = [col for col in X.columns if X[col].dtype in [\"float64\", \"int64\"]]\n",
    "\n",
    "  # Create a pipeline for preprocessing categorical variables\n",
    "  categorical_transformer = Pipeline(steps=[\n",
    "      ('onehot', OneHotEncoder(handle_unknown='ignore'))\n",
    "  ])\n",
    "\n",
    "  numeric_transformer = Pipeline(\n",
    "      steps=[(\"imputer\", SimpleImputer(strategy=\"median\")), (\"scaler\", StandardScaler())]\n",
    "  )\n",
    "\n",
    "  # Combine preprocessing steps with ColumnTransformer\n",
    "  preprocessor = ColumnTransformer(\n",
    "      transformers=[\n",
    "          (\"num\", numeric_transformer, numeric_features),\n",
    "          ('cat', categorical_transformer, categorical_cols)\n",
    "  ])\n",
    "\n",
    "  # Append classifier to preprocessing pipeline\n",
    "  # Now we have a full prediction pipeline\n",
    "  clf = Pipeline(steps=[('preprocessor', preprocessor),\n",
    "                        ('classifier', LogisticRegression())])\n",
    "\n",
    "  # Fit the model\n",
    "  clf.fit(X, y)\n",
    "\n",
    "  # Get the feature names\n",
    "  feature_names = clf.named_steps['preprocessor'].named_transformers_['cat'].named_steps['onehot'].get_feature_names_out() #(input_features=categorical_cols)\n",
    "\n",
    "  # Get the coefficients\n",
    "  coefficients = clf.named_steps['classifier'].coef_\n",
    "\n",
    "  nested_dict = { }\n",
    "  i = 0\n",
    "\n",
    "  # Match coefficient to column values\n",
    "  for column in (numeric_features + categorical_cols):\n",
    "    if column in categorical_cols:\n",
    "      sub_dict = { }\n",
    "      for feature_name in feature_names:\n",
    "        if feature_name.startswith(column):\n",
    "          name = feature_name.replace(column + \"_\",\"\")\n",
    "          sub_dict[name] = coefficients[:,i].item()\n",
    "          i+=1\n",
    "      nested_dict[column] = sub_dict\n",
    "    else:\n",
    "      nested_dict[column] = coefficients[:,i].item()\n",
    "      i+=1\n",
    "\n",
    "  return clf, nested_dict"
   ]
  },
  {
   "cell_type": "markdown",
   "metadata": {},
   "source": [
    "## Execute machine learning run\n",
    "The cell below will train a logistic regression model, and show the covariate weights of the prediction model.\n",
    "\n",
    "If you want to use additional features in your model, copy & paste the **exact** column name (mind capital letters!) from the table above (or from excel).\n",
    "You can add as many variables as you want, if you wrap them with quotes, and separate every variable with a comma."
   ]
  },
  {
   "cell_type": "code",
   "execution_count": null,
   "metadata": {
    "colab": {
     "base_uri": "https://localhost:8080/"
    },
    "id": "5d19eUtWHrKH",
    "outputId": "df5e982c-1d74-4190-bcd8-0b1f0a103589"
   },
   "outputs": [],
   "source": [
    "inputFeatures = df[[\"gender\", \"MonthlyCharges\"]]\n",
    "outcome = (df[\"Churn\"]==\"Yes\")\n",
    "\n",
    "lr_model, coefficients_dict = train_logistic_regression(inputFeatures, outcome)\n",
    "import json\n",
    "print(json.dumps(coefficients_dict, indent=2))"
   ]
  },
  {
   "cell_type": "markdown",
   "metadata": {},
   "source": [
    "# Model performance\n",
    "**Wait with the steps below when until we are addressing model performance!**"
   ]
  },
  {
   "cell_type": "markdown",
   "metadata": {},
   "source": [
    "## Confusion matrix\n",
    "Below you can generate the confusion matrix for the logistic regression model developed above.\n",
    "You can change the threshold to define above what predicted probability we define a positive churn. This threshold can be defined in the first line."
   ]
  },
  {
   "cell_type": "code",
   "execution_count": null,
   "metadata": {
    "colab": {
     "base_uri": "https://localhost:8080/",
     "height": 449
    },
    "id": "Q5VZqajRNNiT",
    "outputId": "3437ac92-a6e0-483b-da23-d2c398720546"
   },
   "outputs": [],
   "source": [
    "threshold = 0.5\n",
    "from sklearn.metrics import ConfusionMatrixDisplay\n",
    "probabilities = lr_model.predict_proba(inputFeatures)\n",
    "probabilities_true = [item[1] > threshold for item in probabilities]\n",
    "ConfusionMatrixDisplay.from_predictions(outcome, probabilities_true)"
   ]
  },
  {
   "cell_type": "markdown",
   "metadata": {},
   "source": [
    "## ROC curve (discriminative ability)\n",
    "Run the code below to generate the ROC curve and determine the AUC value (see legend). How good/bad is the model?"
   ]
  },
  {
   "cell_type": "code",
   "execution_count": null,
   "metadata": {
    "colab": {
     "base_uri": "https://localhost:8080/",
     "height": 449
    },
    "id": "Q5VZqajRNNiT",
    "outputId": "3437ac92-a6e0-483b-da23-d2c398720546"
   },
   "outputs": [],
   "source": [
    "import matplotlib.pyplot as plt\n",
    "from sklearn.metrics import RocCurveDisplay\n",
    "roc = RocCurveDisplay.from_estimator(lr_model, inputFeatures, outcome)\n",
    "plt.show()"
   ]
  }
 ],
 "metadata": {
  "colab": {
   "provenance": []
  },
  "kernelspec": {
   "display_name": "Python 3 (ipykernel)",
   "language": "python",
   "name": "python3"
  },
  "language_info": {
   "codemirror_mode": {
    "name": "ipython",
    "version": 3
   },
   "file_extension": ".py",
   "mimetype": "text/x-python",
   "name": "python",
   "nbconvert_exporter": "python",
   "pygments_lexer": "ipython3",
   "version": "3.10.12"
  }
 },
 "nbformat": 4,
 "nbformat_minor": 4
}
